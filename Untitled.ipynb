{
 "cells": [
  {
   "cell_type": "code",
   "execution_count": 4,
   "id": "e03f028f-89c1-4fcd-a7e7-d6b046c080ab",
   "metadata": {},
   "outputs": [
    {
     "name": "stdout",
     "output_type": "stream",
     "text": [
      "   A   B result\n",
      "0  1  10   None\n",
      "1  2  20   None\n",
      "2  3  30   None\n"
     ]
    }
   ],
   "source": [
    "import pandas as pd\n",
    "\n",
    "# Example DataFrame\n",
    "df = pd.DataFrame({\n",
    "    'A': [1, 2, 3],\n",
    "    'B': [10, 20, 30]\n",
    "})\n",
    "\n",
    "# A function with three parameters\n",
    "def my_function(a, b, y):\n",
    "    return a * y + b * y\n",
    "y=2\n",
    "# Apply it to each row, with extra parameters passed via args\n",
    "# df['result'] = df.apply(my_function, axis=1, args=(2, 5))  # x=2, y=5\n",
    "df['result'] = df.apply(lambda x: my_function(x['A'], x['B'], 2) if y==3 else None , axis=1)\n",
    "\n",
    "\n",
    "print(df)\n"
   ]
  },
  {
   "cell_type": "code",
   "execution_count": null,
   "id": "661eed45-1bc4-4895-b994-0a097ea86814",
   "metadata": {},
   "outputs": [],
   "source": []
  }
 ],
 "metadata": {
  "kernelspec": {
   "display_name": "Python 3 (ipykernel)",
   "language": "python",
   "name": "python3"
  },
  "language_info": {
   "codemirror_mode": {
    "name": "ipython",
    "version": 3
   },
   "file_extension": ".py",
   "mimetype": "text/x-python",
   "name": "python",
   "nbconvert_exporter": "python",
   "pygments_lexer": "ipython3",
   "version": "3.13.3"
  }
 },
 "nbformat": 4,
 "nbformat_minor": 5
}
